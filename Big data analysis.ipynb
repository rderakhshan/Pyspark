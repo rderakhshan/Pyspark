{
  "nbformat": 4,
  "nbformat_minor": 0,
  "metadata": {
    "colab": {
      "name": "The_Notebook.ipynb",
      "provenance": [],
      "collapsed_sections": [],
      "include_colab_link": true
    },
    "kernelspec": {
      "name": "python3",
      "display_name": "Python 3"
    }
  },
  "cells": [
    {
      "cell_type": "markdown",
      "metadata": {
        "id": "view-in-github",
        "colab_type": "text"
      },
      "source": [
        "<a href=\"https://colab.research.google.com/github/rderakhshan/Pyspark/blob/main/The_Notebook.ipynb\" target=\"_parent\"><img src=\"https://colab.research.google.com/assets/colab-badge.svg\" alt=\"Open In Colab\"/></a>"
      ]
    },
    {
      "cell_type": "markdown",
      "metadata": {
        "id": "jPyDpDqvZuLo"
      },
      "source": [
        "# **Welcome to the Notebook**"
      ]
    },
    {
      "cell_type": "markdown",
      "metadata": {
        "id": "F2YNhXuUwGNl"
      },
      "source": [
        "### Let's mount the google drive "
      ]
    },
    {
      "cell_type": "code",
      "metadata": {
        "id": "MmQC7J5cvkzE",
        "colab": {
          "base_uri": "https://localhost:8080/"
        },
        "outputId": "aa262567-017b-4e8d-c202-9fb0c3874c7f"
      },
      "source": [
        "from google.colab import drive\n",
        "drive.mount('/content/drive')"
      ],
      "execution_count": 1,
      "outputs": [
        {
          "output_type": "stream",
          "name": "stdout",
          "text": [
            "Mounted at /content/drive\n"
          ]
        }
      ]
    },
    {
      "cell_type": "markdown",
      "metadata": {
        "id": "cs9EInKyWicZ"
      },
      "source": [
        "# Task 1 : \n",
        "Installing pyspark module"
      ]
    },
    {
      "cell_type": "code",
      "metadata": {
        "id": "LJq2nzUKWujx"
      },
      "source": [
        "# Installing Pyspark\n",
        "\n",
        "!pip install pyspark"
      ],
      "execution_count": null,
      "outputs": []
    },
    {
      "cell_type": "markdown",
      "metadata": {
        "id": "dVNAlw2jWiWb"
      },
      "source": [
        "Importing the modules "
      ]
    },
    {
      "cell_type": "code",
      "metadata": {
        "id": "gS3YIWJiW7I3"
      },
      "source": [
        "# Importing required libraries\n",
        "\n",
        "import matplotlib.pyplot as plt\n",
        "from pyspark.sql import SparkSession\n",
        "from pyspark.sql.functions import count, desc, isnan , col, max , struct"
      ],
      "execution_count": 14,
      "outputs": []
    },
    {
      "cell_type": "markdown",
      "metadata": {
        "id": "RKuIUYLwSkNP"
      },
      "source": [
        "creating spark session"
      ]
    },
    {
      "cell_type": "code",
      "metadata": {
        "id": "XXSZBvRgSnCN",
        "cellView": "both"
      },
      "source": [
        "# Creating spark session\n",
        "\n",
        "spark = SparkSession.builder.appName('Bigdata-cleaning').getOrCreate()"
      ],
      "execution_count": 5,
      "outputs": []
    },
    {
      "cell_type": "markdown",
      "metadata": {
        "id": "vv_SKqr8T9mT"
      },
      "source": [
        "# Task 2 : \n",
        "importing the *Listenings.csv* file: "
      ]
    },
    {
      "cell_type": "code",
      "metadata": {
        "id": "gK22lJDRTuKY"
      },
      "source": [
        "# Loading data in csv format\n",
        "\n",
        "listening_df = spark.read.csv('/content/drive/MyDrive/dataset/listenings.csv', \\\n",
        "                                              header = True, inferSchema = True)"
      ],
      "execution_count": 7,
      "outputs": []
    },
    {
      "cell_type": "code",
      "metadata": {
        "id": "5Ji0zViUyjUE",
        "colab": {
          "base_uri": "https://localhost:8080/"
        },
        "outputId": "987ee2e8-f365-424a-e230-2c8a7d359b49"
      },
      "source": [
        "# Printing head of dataframe with is's shape\n",
        "\n",
        "listening_df.show()\n",
        "print('The shape of a given dataframe is ({}, {})'.format(listening_df.count(),\\\n",
        "                                                         len(listening_df.columns)))"
      ],
      "execution_count": 9,
      "outputs": [
        {
          "output_type": "stream",
          "name": "stdout",
          "text": [
            "+-----------+-------------+--------------------+---------------+--------------------+\n",
            "|    user_id|         date|               track|         artist|               album|\n",
            "+-----------+-------------+--------------------+---------------+--------------------+\n",
            "|000Silenced|1299680100000|           Price Tag|       Jessie J|         Who You Are|\n",
            "|000Silenced|1299679920000|Price Tag (Acoust...|       Jessie J|           Price Tag|\n",
            "|000Silenced|1299679440000|Be Mine! (Ballad ...|          Robyn|            Be Mine!|\n",
            "|000Silenced|1299679200000|            Acapella|          Kelis|            Acapella|\n",
            "|000Silenced|1299675660000|   I'm Not Invisible|      The Tease|   I'm Not Invisible|\n",
            "|000Silenced|1297511400000|Bounce (Feat NORE...|       MSTRKRFT|         Fist of God|\n",
            "|000Silenced|1294498440000|Don't Stop The Mu...|        Rihanna|Addicted 2 Bassli...|\n",
            "|000Silenced|1292438340000|               ObZen|      Meshuggah|               ObZen|\n",
            "|000Silenced|1292437740000|   Yama's Messengers|         Gojira|The Way of All Flesh|\n",
            "|000Silenced|1292436360000|On the Brink of E...|   Napalm Death|Time Waits For No...|\n",
            "|000Silenced|1292436360000|On the Brink of E...|   Napalm Death|Time Waits For No...|\n",
            "|000Silenced|1292435940000|        In Deference|   Napalm Death|      Smear Campaign|\n",
            "|000Silenced|1292434920000|      Post(?)organic|    Decapitated|Organic Hallucinosis|\n",
            "|000Silenced|1292434560000|        Mind Feeders|   Dom & Roland| No Strings Attached|\n",
            "|000Silenced|1292434320000|Necrosadistic War...|Cannibal Corpse|                Kill|\n",
            "|000Silenced|1292365560000|     Dance All Night|   Dom & Roland|          Chronology|\n",
            "|000Silenced|1292365260000|          Late Night|   Dom & Roland|          Chronology|\n",
            "|000Silenced|1292365020000|          Freak Seen|   Dom & Roland|          Chronology|\n",
            "|000Silenced|1292364720000|Paradrenasite (Hi...|   Dom & Roland|          Chronology|\n",
            "|000Silenced|1292364300000|               Rhino|   Dom & Roland|          Chronology|\n",
            "+-----------+-------------+--------------------+---------------+--------------------+\n",
            "only showing top 20 rows\n",
            "\n",
            "The shape of a given dataframe is (14650594, 5)\n"
          ]
        }
      ]
    },
    {
      "cell_type": "code",
      "source": [
        "# Statistical summary of given dataset\n",
        "\n",
        "# listening_df.summary()"
      ],
      "metadata": {
        "id": "_b_iZszH5Dv5"
      },
      "execution_count": 11,
      "outputs": []
    },
    {
      "cell_type": "markdown",
      "source": [
        "# Task 3 :\n",
        "Agiven dataset should be checked against null values:"
      ],
      "metadata": {
        "id": "MZe-WwWF52kV"
      }
    },
    {
      "cell_type": "code",
      "metadata": {
        "id": "pIMzBAglwtNP",
        "outputId": "df05d6be-35e2-43dc-d4e3-05cea1b111c7",
        "colab": {
          "base_uri": "https://localhost:8080/",
          "height": 37
        }
      },
      "source": [
        "# Printing the number of rows with at least one null value\n",
        "\n",
        "\n",
        "('The number of rows with null values is {}'.format(listening_df.count() - \\\n",
        "                                                    listening_df.dropna().count()))"
      ],
      "execution_count": 20,
      "outputs": [
        {
          "output_type": "execute_result",
          "data": {
            "application/vnd.google.colaboratory.intrinsic+json": {
              "type": "string"
            },
            "text/plain": [
              "'The number of rows with null values is 891689'"
            ]
          },
          "metadata": {},
          "execution_count": 20
        }
      ]
    },
    {
      "cell_type": "markdown",
      "metadata": {
        "id": "MwpJJeWa4qmn"
      },
      "source": [
        "# Task 4 :\n",
        "Drop the null rows and let's check the dataset again:"
      ]
    },
    {
      "cell_type": "code",
      "metadata": {
        "id": "Botf6-Vb4uqs",
        "colab": {
          "base_uri": "https://localhost:8080/"
        },
        "outputId": "0b8f43b5-d7ad-425f-b06c-6fa28aebd9ed"
      },
      "source": [
        "# Droping the rows with at least one value\n",
        "\n",
        "listening_df  = listening_df.dropna()\n",
        "listening_df.show()\n",
        "print('The shape of a given dataframe is ({}, {})'.format(listening_df.count(), len(listening_df.columns)))"
      ],
      "execution_count": 22,
      "outputs": [
        {
          "output_type": "stream",
          "name": "stdout",
          "text": [
            "+-----------+-------------+--------------------+---------------+--------------------+\n",
            "|    user_id|         date|               track|         artist|               album|\n",
            "+-----------+-------------+--------------------+---------------+--------------------+\n",
            "|000Silenced|1299680100000|           Price Tag|       Jessie J|         Who You Are|\n",
            "|000Silenced|1299679920000|Price Tag (Acoust...|       Jessie J|           Price Tag|\n",
            "|000Silenced|1299679440000|Be Mine! (Ballad ...|          Robyn|            Be Mine!|\n",
            "|000Silenced|1299679200000|            Acapella|          Kelis|            Acapella|\n",
            "|000Silenced|1299675660000|   I'm Not Invisible|      The Tease|   I'm Not Invisible|\n",
            "|000Silenced|1297511400000|Bounce (Feat NORE...|       MSTRKRFT|         Fist of God|\n",
            "|000Silenced|1294498440000|Don't Stop The Mu...|        Rihanna|Addicted 2 Bassli...|\n",
            "|000Silenced|1292438340000|               ObZen|      Meshuggah|               ObZen|\n",
            "|000Silenced|1292437740000|   Yama's Messengers|         Gojira|The Way of All Flesh|\n",
            "|000Silenced|1292436360000|On the Brink of E...|   Napalm Death|Time Waits For No...|\n",
            "|000Silenced|1292436360000|On the Brink of E...|   Napalm Death|Time Waits For No...|\n",
            "|000Silenced|1292435940000|        In Deference|   Napalm Death|      Smear Campaign|\n",
            "|000Silenced|1292434920000|      Post(?)organic|    Decapitated|Organic Hallucinosis|\n",
            "|000Silenced|1292434560000|        Mind Feeders|   Dom & Roland| No Strings Attached|\n",
            "|000Silenced|1292434320000|Necrosadistic War...|Cannibal Corpse|                Kill|\n",
            "|000Silenced|1292365560000|     Dance All Night|   Dom & Roland|          Chronology|\n",
            "|000Silenced|1292365260000|          Late Night|   Dom & Roland|          Chronology|\n",
            "|000Silenced|1292365020000|          Freak Seen|   Dom & Roland|          Chronology|\n",
            "|000Silenced|1292364720000|Paradrenasite (Hi...|   Dom & Roland|          Chronology|\n",
            "|000Silenced|1292364300000|               Rhino|   Dom & Roland|          Chronology|\n",
            "+-----------+-------------+--------------------+---------------+--------------------+\n",
            "only showing top 20 rows\n",
            "\n",
            "The shape of a given dataframe is (13758905, 5)\n"
          ]
        }
      ]
    },
    {
      "cell_type": "markdown",
      "metadata": {
        "id": "Z7nKCYoZltnv"
      },
      "source": [
        "# Task 5:\n",
        "Check the data types for a given variables"
      ]
    },
    {
      "cell_type": "code",
      "metadata": {
        "id": "qVg1jt1OyWdh",
        "colab": {
          "base_uri": "https://localhost:8080/"
        },
        "outputId": "c6b7cbed-3303-47ca-b096-dddffbcff2c9"
      },
      "source": [
        "# Print the schema of dataset\n",
        "\n",
        "listening_df.printSchema()"
      ],
      "execution_count": 24,
      "outputs": [
        {
          "output_type": "stream",
          "name": "stdout",
          "text": [
            "root\n",
            " |-- user_id: string (nullable = true)\n",
            " |-- date: long (nullable = true)\n",
            " |-- track: string (nullable = true)\n",
            " |-- artist: string (nullable = true)\n",
            " |-- album: string (nullable = true)\n",
            "\n"
          ]
        }
      ]
    },
    {
      "cell_type": "markdown",
      "metadata": {
        "id": "XMD0DhFl2FEJ"
      },
      "source": [
        "# Task 6:\n",
        "\n",
        "**Exe #0:**\n",
        "select two columns: track and artist"
      ]
    },
    {
      "cell_type": "code",
      "metadata": {
        "id": "FZTdA5wn2TZy",
        "colab": {
          "base_uri": "https://localhost:8080/"
        },
        "outputId": "d37ef6df-88e4-442d-c9f8-8cb847b203e4"
      },
      "source": [
        "# Task 3:\n",
        "listening_df.select('track', 'artist').show(10, truncate = False)"
      ],
      "execution_count": 25,
      "outputs": [
        {
          "output_type": "stream",
          "name": "stdout",
          "text": [
            "+--------------------------------------------+------------+\n",
            "|track                                       |artist      |\n",
            "+--------------------------------------------+------------+\n",
            "|Price Tag                                   |Jessie J    |\n",
            "|Price Tag (Acoustic Version)                |Jessie J    |\n",
            "|Be Mine! (Ballad Version)                   |Robyn       |\n",
            "|Acapella                                    |Kelis       |\n",
            "|I'm Not Invisible                           |The Tease   |\n",
            "|Bounce (Feat NORE + ISIS)                   |MSTRKRFT    |\n",
            "|Don't Stop The Music (Wideboys Bassline Mix)|Rihanna     |\n",
            "|ObZen                                       |Meshuggah   |\n",
            "|Yama's Messengers                           |Gojira      |\n",
            "|On the Brink of Extinction                  |Napalm Death|\n",
            "+--------------------------------------------+------------+\n",
            "only showing top 10 rows\n",
            "\n"
          ]
        }
      ]
    },
    {
      "cell_type": "markdown",
      "metadata": {
        "id": "QRcgXOFs2hjw"
      },
      "source": [
        "**Exe #1**:\n",
        "\n",
        "Let's find all of the records of those users who have listened to ***Rihanna***"
      ]
    },
    {
      "cell_type": "code",
      "metadata": {
        "id": "ICyiTMVnppLw",
        "colab": {
          "base_uri": "https://localhost:8080/"
        },
        "outputId": "0bd8e513-1c06-4249-f25c-934918079c6a"
      },
      "source": [
        "# Extracting those rows which listened to Rihanna\n",
        "\n",
        "df_rihann = listening_df.select('*').filter(listening_df.artist == 'Rihanna')\n",
        "df_rihann.show(10, truncate = False)"
      ],
      "execution_count": 27,
      "outputs": [
        {
          "output_type": "stream",
          "name": "stdout",
          "text": [
            "+-----------+-------------+--------------------------------------------+-------+-------------------------------+\n",
            "|user_id    |date         |track                                       |artist |album                          |\n",
            "+-----------+-------------+--------------------------------------------+-------+-------------------------------+\n",
            "|000Silenced|1294498440000|Don't Stop The Music (Wideboys Bassline Mix)|Rihanna|Addicted 2 Bassline CD1        |\n",
            "|000Silenced|1285438440000|Disturbia                                   |Rihanna|Good Girl Gone Bad: The Remixes|\n",
            "|00williamsl|1361485800000|Hatin On The Club                           |Rihanna|Random                         |\n",
            "|00williamsl|1361485800000|Hatin On The Club                           |Rihanna|Random                         |\n",
            "|00williamsl|1361048640000|Complicated                                 |Rihanna|Loud                           |\n",
            "|00williamsl|1360439280000|What's My Name (feat Drake)                 |Rihanna|Loud                           |\n",
            "|00williamsl|1360434480000|Kanye West feat Rihanna - All Of The Lights |Rihanna|Loud                           |\n",
            "|0502008    |1440985800000|Only Girl (In the World)                    |Rihanna|Loud                           |\n",
            "|0rdos      |1319599320000|Pon De Replay (Remix)                       |Rihanna|Music of the Sun               |\n",
            "|0rdos      |1319599080000|Now I Know                                  |Rihanna|Music of the Sun               |\n",
            "+-----------+-------------+--------------------------------------------+-------+-------------------------------+\n",
            "only showing top 10 rows\n",
            "\n"
          ]
        }
      ]
    },
    {
      "cell_type": "markdown",
      "metadata": {
        "id": "I0IafeyvFU9O"
      },
      "source": [
        "**Exe #2:**\n",
        "\n",
        "Let's find top 10 users who are fan of ***Rihanna***"
      ]
    },
    {
      "cell_type": "code",
      "metadata": {
        "id": "3-hM9kMm7JmI",
        "colab": {
          "base_uri": "https://localhost:8080/"
        },
        "outputId": "fb1e3cf0-6f6b-4ef0-c88c-5d8ffea19d7c"
      },
      "source": [
        "# Limiting the output of quiery up to top ten\n",
        "\n",
        "# Pandas way\n",
        "# df_rihann = df[df['artist'] == 'Rihanna'].show(10, truncate = False)\n",
        "# Pyspark way\n",
        "df_rihann = listening_df.select('*').filter(listening_df.artist == 'Rihanna').\\\n",
        "                          groupby('user_id').count().orderBy(desc('count')).limit(10)\n",
        "df_rihann.show(truncate = False)\n"
      ],
      "execution_count": 29,
      "outputs": [
        {
          "output_type": "stream",
          "name": "stdout",
          "text": [
            "+---------------+-----+\n",
            "|user_id        |count|\n",
            "+---------------+-----+\n",
            "|thiessu        |179  |\n",
            "|eyessetkyle    |166  |\n",
            "|adxx           |164  |\n",
            "|missnumberthree|156  |\n",
            "|helloiamnatalie|128  |\n",
            "|nmjnb          |124  |\n",
            "|AndyyyA        |123  |\n",
            "|BIGBANG186     |121  |\n",
            "|mixedvibes     |120  |\n",
            "|AndyKitt       |115  |\n",
            "+---------------+-----+\n",
            "\n"
          ]
        }
      ]
    },
    {
      "cell_type": "markdown",
      "metadata": {
        "id": "hgAAl6aAcp41"
      },
      "source": [
        "**Exe #3:**\n",
        "\n",
        "find top 10 famous tracks "
      ]
    },
    {
      "cell_type": "code",
      "metadata": {
        "id": "qlh3IUzfJ3_I",
        "colab": {
          "base_uri": "https://localhost:8080/"
        },
        "outputId": "36275400-12b7-4ae6-cad6-dfa615b7c730"
      },
      "source": [
        "# Finding top ten most popular tracks\n",
        "\n",
        "df_track = listening_df.select('*').groupby('track').count().orderBy(desc('count'))\n",
        "df_track.show(10, truncate = True)"
      ],
      "execution_count": 30,
      "outputs": [
        {
          "output_type": "stream",
          "name": "stdout",
          "text": [
            "+-------+-----+\n",
            "|  track|count|\n",
            "+-------+-----+\n",
            "|  Intro|13176|\n",
            "|   Home| 7576|\n",
            "|  Hello| 6961|\n",
            "|Hold On| 5857|\n",
            "|   Work| 4889|\n",
            "|  Sorry| 4824|\n",
            "|   Baby| 4646|\n",
            "|Runaway| 4429|\n",
            "| Closer| 4287|\n",
            "|   Fire| 4141|\n",
            "+-------+-----+\n",
            "only showing top 10 rows\n",
            "\n"
          ]
        }
      ]
    },
    {
      "cell_type": "markdown",
      "metadata": {
        "id": "HqhPhQvjeXt0"
      },
      "source": [
        "**Exe #4:**\n",
        "\n",
        "find top 10 famous tracks of ***Rihanna*** "
      ]
    },
    {
      "cell_type": "code",
      "metadata": {
        "id": "D_npmdh1ec8y",
        "colab": {
          "base_uri": "https://localhost:8080/"
        },
        "outputId": "75a94832-0288-4b88-d3b4-5f630ef366f4"
      },
      "source": [
        "df_rihann_track = listening_df.select('*').filter(listening_df.artist == 'Rihanna').\\\n",
        "                                          groupby('track').count().orderBy(desc('count'))\n",
        "df_rihann_track.show(10, truncate = True)"
      ],
      "execution_count": 31,
      "outputs": [
        {
          "output_type": "stream",
          "name": "stdout",
          "text": [
            "+--------------------+-----+\n",
            "|               track|count|\n",
            "+--------------------+-----+\n",
            "|                Work| 2646|\n",
            "|Only Girl (In the...| 1749|\n",
            "|We Found Love (fe...| 1575|\n",
            "|                 S&M| 1307|\n",
            "|            Rude Boy| 1303|\n",
            "|            Diamonds| 1224|\n",
            "|      Kiss it Better|  945|\n",
            "| Where Have You Been|  844|\n",
            "|Cheers (Drink to ...|  697|\n",
            "|           Needed Me|  679|\n",
            "+--------------------+-----+\n",
            "only showing top 10 rows\n",
            "\n"
          ]
        }
      ]
    },
    {
      "cell_type": "markdown",
      "metadata": {
        "id": "E6pgcH0p1ZXo"
      },
      "source": [
        "**Exe #5:**\n",
        "\n",
        "find top 10 famous albums "
      ]
    },
    {
      "cell_type": "code",
      "metadata": {
        "id": "c5YHm6yKenE7",
        "colab": {
          "base_uri": "https://localhost:8080/"
        },
        "outputId": "5649b70f-eaf2-4862-9394-b0d52ea30921"
      },
      "source": [
        "# Finding top ten popular albums\n",
        "\n",
        "df_albums = listening_df.select('*').groupby('Album').count().orderBy(desc('count'))\n",
        "df_albums.show(10, truncate = True)"
      ],
      "execution_count": 32,
      "outputs": [
        {
          "output_type": "stream",
          "name": "stdout",
          "text": [
            "+--------------------+-----+\n",
            "|               Album|count|\n",
            "+--------------------+-----+\n",
            "|       Greatest Hits|67892|\n",
            "|   The Life Of Pablo|22311|\n",
            "|                  AM|14264|\n",
            "|                  xx|14198|\n",
            "|     An Awesome Wave|13673|\n",
            "|        Sigh No More|13556|\n",
            "|Whatever People S...|12731|\n",
            "|            For Emma|11995|\n",
            "|          Art Angels|11694|\n",
            "|                  21|11576|\n",
            "+--------------------+-----+\n",
            "only showing top 10 rows\n",
            "\n"
          ]
        }
      ]
    },
    {
      "cell_type": "markdown",
      "metadata": {
        "id": "YXev8HQ57bdq"
      },
      "source": [
        "# Task 7 :\n",
        "importing the ***genre.csv*** file:"
      ]
    },
    {
      "cell_type": "code",
      "metadata": {
        "id": "tpXSrYfu14PB",
        "colab": {
          "base_uri": "https://localhost:8080/"
        },
        "outputId": "47adbc64-0072-47dd-c592-1e119dd29741"
      },
      "source": [
        "# Importing complementrary dataframe\n",
        "\n",
        "df_genere = spark.read.csv( '/content/drive/MyDrive/dataset/genre.csv', header = \\\n",
        "                                                           True, inferSchema =  True)\n",
        "df_genere.show(10, truncate = True)"
      ],
      "execution_count": 33,
      "outputs": [
        {
          "output_type": "stream",
          "name": "stdout",
          "text": [
            "+--------------------+-----+\n",
            "|              artist|genre|\n",
            "+--------------------+-----+\n",
            "|                Muse| rock|\n",
            "|             Nirvana| rock|\n",
            "|            Bon Jovi| rock|\n",
            "|          The Police| rock|\n",
            "|                Kiss| rock|\n",
            "|       Guns N' Roses| rock|\n",
            "|         Rusted Root| rock|\n",
            "|Katrina and the W...|  pop|\n",
            "|         The Beatles| rock|\n",
            "|        Hall & Oates|  pop|\n",
            "+--------------------+-----+\n",
            "only showing top 10 rows\n",
            "\n"
          ]
        }
      ]
    },
    {
      "cell_type": "markdown",
      "metadata": {
        "id": "aCHSo36W9RcP"
      },
      "source": [
        "let's check the data"
      ]
    },
    {
      "cell_type": "code",
      "metadata": {
        "id": "LJu4Ouz89O6_",
        "colab": {
          "base_uri": "https://localhost:8080/"
        },
        "outputId": "2944c62f-6c00-4954-d4e9-50721970c284"
      },
      "source": [
        "print('The shape of given dataframe is ({},{})'.format(df_genere.count(), len(df_genere.columns)))"
      ],
      "execution_count": null,
      "outputs": [
        {
          "output_type": "stream",
          "name": "stdout",
          "text": [
            "The shape of given dataframe is (138432,2)\n"
          ]
        }
      ]
    },
    {
      "cell_type": "markdown",
      "metadata": {
        "id": "72OpWX7F98qg"
      },
      "source": [
        "Let's inner join these two data frames"
      ]
    },
    {
      "cell_type": "markdown",
      "metadata": {
        "id": "yM_f5qILBNeI"
      },
      "source": [
        "**Exe #6**\n",
        "\n",
        "find top 10 users who are fan of ***pop*** music"
      ]
    },
    {
      "cell_type": "code",
      "metadata": {
        "id": "dognQVlxBi2n",
        "colab": {
          "base_uri": "https://localhost:8080/"
        },
        "outputId": "3859a798-b7c0-4c1d-e6cf-0841d2baef55"
      },
      "source": [
        "# Finding top ten fans of pop music. First two datasets should be merged based on\n",
        "# foreing key\n",
        "\n",
        "df_pop = listening_df.join(df_genere, how = 'inner', on = [\"artist\"])\n",
        "\n",
        "df_pop_10 = df_pop.filter(df_pop.genre == 'pop').groupby('user_id').count().\\\n",
        "                                                              orderBy(desc('count'))\n",
        "df_pop_10.show(10, truncate = True)"
      ],
      "execution_count": 35,
      "outputs": [
        {
          "output_type": "stream",
          "name": "stdout",
          "text": [
            "+---------------+-----+\n",
            "|        user_id|count|\n",
            "+---------------+-----+\n",
            "|        01Green|  496|\n",
            "|          mrpsb|  400|\n",
            "|      momousagi|  400|\n",
            "|   BlueKnockOut|  378|\n",
            "|    musicboy80s|  376|\n",
            "|  incultojurgis|  374|\n",
            "| ElektricOrchid|  370|\n",
            "|foreign_fanatic|  350|\n",
            "|   Kevin_Soutar|  346|\n",
            "|  landrover2171|  301|\n",
            "+---------------+-----+\n",
            "only showing top 10 rows\n",
            "\n"
          ]
        }
      ]
    },
    {
      "cell_type": "markdown",
      "metadata": {
        "id": "63quzy7t-zb7"
      },
      "source": [
        "**Exe #7**\n",
        "\n",
        "find top 10 famous genres"
      ]
    },
    {
      "cell_type": "code",
      "metadata": {
        "id": "aDFcoPPk-Rhf",
        "colab": {
          "base_uri": "https://localhost:8080/"
        },
        "outputId": "83a1328a-544d-4fa7-a13c-bd1aff228011"
      },
      "source": [
        "# Extracting top ten music genre from already merged one\n",
        "\n",
        "df_fan_pop = df_pop.select('*').groupby('genre').count().orderBy(desc('count'))\n",
        "df_fan_pop.show(10, truncate = True)"
      ],
      "execution_count": 36,
      "outputs": [
        {
          "output_type": "stream",
          "name": "stdout",
          "text": [
            "+----------+-------+\n",
            "|     genre|  count|\n",
            "+----------+-------+\n",
            "|      rock|2691934|\n",
            "|       pop|1544747|\n",
            "|electronic| 551509|\n",
            "|   hip hop| 532984|\n",
            "|      folk| 438174|\n",
            "|indie rock| 431439|\n",
            "|      punk| 380915|\n",
            "|       r&b| 344101|\n",
            "|     metal| 208107|\n",
            "|     indie| 206726|\n",
            "+----------+-------+\n",
            "only showing top 10 rows\n",
            "\n"
          ]
        }
      ]
    },
    {
      "cell_type": "markdown",
      "metadata": {
        "id": "hrZOAWVgLMZo"
      },
      "source": [
        "# Task 8:\n",
        "**Exe #8**\n",
        "\n",
        "find out each user favourite genre"
      ]
    },
    {
      "cell_type": "code",
      "metadata": {
        "id": "H3AWxlkbLvCg",
        "colab": {
          "base_uri": "https://localhost:8080/"
        },
        "outputId": "7b62ed75-6787-4f55-8e40-908c2f2032e1"
      },
      "source": [
        "# Finding each customers' favorite genre. First grouping by user_id then again grouping based on genre\n",
        "\n",
        "df_favorite_genre_1 = df_pop.select('user_id', 'genre').groupby('user_id', 'genre')\\\n",
        "                                   .agg(count('*').alias('count')).orderBy('user_id')\n",
        "df_favorite_genre_1.show(10, truncate = True)"
      ],
      "execution_count": 38,
      "outputs": [
        {
          "output_type": "stream",
          "name": "stdout",
          "text": [
            "+-------+--------------------+-----+\n",
            "|user_id|               genre|count|\n",
            "+-------+--------------------+-----+\n",
            "| --Seph|             Rihanna|    1|\n",
            "| --Seph|             ambient|    6|\n",
            "| --Seph|             hip hop|    7|\n",
            "| --Seph|              trance|    1|\n",
            "| --Seph| Ne-Yo & Nicky Ro...|    1|\n",
            "| --Seph|             new age|    1|\n",
            "| --Seph|                rock|   27|\n",
            "| --Seph| Charis Henry & M...|    4|\n",
            "| --Seph|          ninja tune|    1|\n",
            "| --Seph|                fado|    1|\n",
            "+-------+--------------------+-----+\n",
            "only showing top 10 rows\n",
            "\n"
          ]
        }
      ]
    },
    {
      "cell_type": "code",
      "metadata": {
        "id": "Soy2bMxQN-Ub",
        "colab": {
          "base_uri": "https://localhost:8080/"
        },
        "outputId": "b3fd7628-a4fd-492b-e665-f507b7c2d4c1"
      },
      "source": [
        "# Second part of above cell\n",
        "\n",
        "df_favorite_genre_2 = df_favorite_genre_1.groupBy('user_id').agg(max(struct(col('count'), \\\n",
        "                                  col('genre'))).alias('max')).select('user_id', col('max.genre'))\n",
        "df_favorite_genre_2.show(10, truncate = True)"
      ],
      "execution_count": 39,
      "outputs": [
        {
          "output_type": "stream",
          "name": "stdout",
          "text": [
            "+---------------+-----------+\n",
            "|        user_id|      genre|\n",
            "+---------------+-----------+\n",
            "|      --Shinn--|       rock|\n",
            "|       --ollz--|       rock|\n",
            "|     -Amnesiac-|      metal|\n",
            "|         -Bish-|       rock|\n",
            "|        -Danni-|       rock|\n",
            "|          -DeWp|    hip hop|\n",
            "|      -Faction-|       rock|\n",
            "|-February-Star-|       rock|\n",
            "|        -Gemma-|british pop|\n",
            "|   -Gingergirl-|        pop|\n",
            "+---------------+-----------+\n",
            "only showing top 10 rows\n",
            "\n"
          ]
        }
      ]
    },
    {
      "cell_type": "markdown",
      "metadata": {
        "id": "6oIyhOHkCDuv"
      },
      "source": [
        "**Exe #9**\n",
        "\n",
        "count the number of top ten popular genres and then visulize it using bar chart "
      ]
    },
    {
      "cell_type": "code",
      "metadata": {
        "id": "7_lEjNKVCDJv",
        "outputId": "66dff876-fd39-4951-87cc-f52092a25a63",
        "colab": {
          "base_uri": "https://localhost:8080/"
        }
      },
      "source": [
        "# Counting the number of top ten genres in a given dataset\n",
        "\n",
        "df_pop_plot = df_pop.groupBy('genre').count().orderBy(desc('count')).limit(10)\n",
        "df_pop_plot.show()\n",
        "print('The shape of given dataframe is ({},{})'.format(df_pop_plot.count(), len(df_pop_plot.columns)))"
      ],
      "execution_count": 40,
      "outputs": [
        {
          "output_type": "stream",
          "name": "stdout",
          "text": [
            "+----------+-------+\n",
            "|     genre|  count|\n",
            "+----------+-------+\n",
            "|      rock|2691934|\n",
            "|       pop|1544747|\n",
            "|electronic| 551509|\n",
            "|   hip hop| 532984|\n",
            "|      folk| 438174|\n",
            "|indie rock| 431439|\n",
            "|      punk| 380915|\n",
            "|       r&b| 344101|\n",
            "|     metal| 208107|\n",
            "|     indie| 206726|\n",
            "+----------+-------+\n",
            "\n",
            "The shape of given dataframe is (10,2)\n"
          ]
        }
      ]
    },
    {
      "cell_type": "markdown",
      "metadata": {
        "id": "h0h2SSk8InMH"
      },
      "source": [
        "Now, let's visualize the results using ***matplotlib***"
      ]
    },
    {
      "cell_type": "code",
      "metadata": {
        "id": "CMigHLrEQgKv"
      },
      "source": [
        "df_pop_plot_2 = df_pop_plot.collect()"
      ],
      "execution_count": 44,
      "outputs": []
    },
    {
      "cell_type": "code",
      "metadata": {
        "id": "FYLE4Mbu_Lbu"
      },
      "source": [
        "labels = [row['genre'] for row in df_pop_plot_2]\n",
        "counts = [row['count']/1000.0 for row in df_pop_plot_2]"
      ],
      "execution_count": 48,
      "outputs": []
    },
    {
      "cell_type": "markdown",
      "metadata": {
        "id": "1iDrvEwYQ4AE"
      },
      "source": [
        "now lets visualize these two lists using a bar chart"
      ]
    },
    {
      "cell_type": "code",
      "metadata": {
        "id": "XOOq1U9BQjKI",
        "colab": {
          "base_uri": "https://localhost:8080/",
          "height": 592
        },
        "outputId": "9c6672e7-bb9e-4ff6-fb84-2889da51aba2"
      },
      "source": [
        "fig , ax = plt.subplots(nrows = 1, ncols = 1, figsize = ((10,10)))\n",
        "plt.bar(labels, counts)\n",
        "plt.ylabel('# of fans of each genre')\n",
        "plt.show()"
      ],
      "execution_count": 50,
      "outputs": [
        {
          "output_type": "display_data",
          "data": {
            "image/png": "[encoded data removed]",
            "text/plain": [
              "<Figure size 720x720 with 1 Axes>"
            ]
          },
          "metadata": {
            "needs_background": "light"
          }
        }
      ]
    },
    {
      "cell_type": "code",
      "source": [
        ""
      ],
      "metadata": {
        "id": "P5BS8qXPfcA-"
      },
      "execution_count": null,
      "outputs": []
    }
  ]
}
